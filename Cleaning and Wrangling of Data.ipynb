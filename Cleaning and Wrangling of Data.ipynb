{
 "cells": [
  {
   "cell_type": "code",
   "execution_count": 1,
   "metadata": {},
   "outputs": [],
   "source": [
    "import pandas as pd\n",
    "import numpy as np"
   ]
  },
  {
   "cell_type": "code",
   "execution_count": 2,
   "metadata": {},
   "outputs": [],
   "source": [
    "df = pd.read_csv('dataset_2019_2022.csv')"
   ]
  },
  {
   "cell_type": "code",
   "execution_count": 3,
   "metadata": {},
   "outputs": [
    {
     "data": {
      "text/html": [
       "<div>\n",
       "<style scoped>\n",
       "    .dataframe tbody tr th:only-of-type {\n",
       "        vertical-align: middle;\n",
       "    }\n",
       "\n",
       "    .dataframe tbody tr th {\n",
       "        vertical-align: top;\n",
       "    }\n",
       "\n",
       "    .dataframe thead th {\n",
       "        text-align: right;\n",
       "    }\n",
       "</style>\n",
       "<table border=\"1\" class=\"dataframe\">\n",
       "  <thead>\n",
       "    <tr style=\"text-align: right;\">\n",
       "      <th></th>\n",
       "      <th>customer_id</th>\n",
       "      <th>product_id</th>\n",
       "      <th>basket_id</th>\n",
       "      <th>loyalty</th>\n",
       "      <th>household_type</th>\n",
       "      <th>age_band</th>\n",
       "      <th>department</th>\n",
       "      <th>brand</th>\n",
       "      <th>commodity</th>\n",
       "      <th>store</th>\n",
       "      <th>price</th>\n",
       "      <th>transaction_date</th>\n",
       "    </tr>\n",
       "  </thead>\n",
       "  <tbody>\n",
       "    <tr>\n",
       "      <th>0</th>\n",
       "      <td>15803</td>\n",
       "      <td>1131974</td>\n",
       "      <td>57266</td>\n",
       "      <td>Loyalist</td>\n",
       "      <td>1 adult with kids</td>\n",
       "      <td>19-24</td>\n",
       "      <td>Grocery</td>\n",
       "      <td>private</td>\n",
       "      <td>Baked bread/buns/rolls</td>\n",
       "      <td>374</td>\n",
       "      <td>0.99</td>\n",
       "      <td>5/10/2020 0:00</td>\n",
       "    </tr>\n",
       "    <tr>\n",
       "      <th>1</th>\n",
       "      <td>15803</td>\n",
       "      <td>1051516</td>\n",
       "      <td>57266</td>\n",
       "      <td>Loyalist</td>\n",
       "      <td>1 adult with kids</td>\n",
       "      <td>19-24</td>\n",
       "      <td>Produce</td>\n",
       "      <td>national</td>\n",
       "      <td>Vegetables - all others</td>\n",
       "      <td>374</td>\n",
       "      <td>0.70</td>\n",
       "      <td>24/10/2020 0:00</td>\n",
       "    </tr>\n",
       "    <tr>\n",
       "      <th>2</th>\n",
       "      <td>15803</td>\n",
       "      <td>967254</td>\n",
       "      <td>57266</td>\n",
       "      <td>Loyalist</td>\n",
       "      <td>1 adult with kids</td>\n",
       "      <td>19-24</td>\n",
       "      <td>Pharmaceutical</td>\n",
       "      <td>national</td>\n",
       "      <td>Cold and flu</td>\n",
       "      <td>374</td>\n",
       "      <td>1.68</td>\n",
       "      <td>18/10/2020 0:00</td>\n",
       "    </tr>\n",
       "    <tr>\n",
       "      <th>3</th>\n",
       "      <td>15803</td>\n",
       "      <td>1134222</td>\n",
       "      <td>57266</td>\n",
       "      <td>Loyalist</td>\n",
       "      <td>1 adult with kids</td>\n",
       "      <td>19-24</td>\n",
       "      <td>Grocery</td>\n",
       "      <td>private</td>\n",
       "      <td>Paper housewares</td>\n",
       "      <td>374</td>\n",
       "      <td>2.59</td>\n",
       "      <td>23/10/2020 0:00</td>\n",
       "    </tr>\n",
       "    <tr>\n",
       "      <th>4</th>\n",
       "      <td>15803</td>\n",
       "      <td>1003421</td>\n",
       "      <td>57266</td>\n",
       "      <td>Loyalist</td>\n",
       "      <td>1 adult with kids</td>\n",
       "      <td>19-24</td>\n",
       "      <td>Grocery</td>\n",
       "      <td>national</td>\n",
       "      <td>Soup</td>\n",
       "      <td>374</td>\n",
       "      <td>0.60</td>\n",
       "      <td>27/10/2020 0:00</td>\n",
       "    </tr>\n",
       "    <tr>\n",
       "      <th>5</th>\n",
       "      <td>15803</td>\n",
       "      <td>937791</td>\n",
       "      <td>57266</td>\n",
       "      <td>Loyalist</td>\n",
       "      <td>1 adult with kids</td>\n",
       "      <td>19-24</td>\n",
       "      <td>Grocery</td>\n",
       "      <td>national</td>\n",
       "      <td>Frozen pizza</td>\n",
       "      <td>374</td>\n",
       "      <td>2.25</td>\n",
       "      <td>28/10/2020 0:00</td>\n",
       "    </tr>\n",
       "    <tr>\n",
       "      <th>6</th>\n",
       "      <td>15803</td>\n",
       "      <td>1082185</td>\n",
       "      <td>57266</td>\n",
       "      <td>Loyalist</td>\n",
       "      <td>1 adult with kids</td>\n",
       "      <td>19-24</td>\n",
       "      <td>Produce</td>\n",
       "      <td>national</td>\n",
       "      <td>Tropical fruit</td>\n",
       "      <td>374</td>\n",
       "      <td>1.07</td>\n",
       "      <td>12/10/2020 0:00</td>\n",
       "    </tr>\n",
       "    <tr>\n",
       "      <th>7</th>\n",
       "      <td>15803</td>\n",
       "      <td>940947</td>\n",
       "      <td>57266</td>\n",
       "      <td>Loyalist</td>\n",
       "      <td>1 adult with kids</td>\n",
       "      <td>19-24</td>\n",
       "      <td>Meat</td>\n",
       "      <td>national</td>\n",
       "      <td>Heat/serve</td>\n",
       "      <td>374</td>\n",
       "      <td>5.00</td>\n",
       "      <td>2/10/2020 0:00</td>\n",
       "    </tr>\n",
       "    <tr>\n",
       "      <th>8</th>\n",
       "      <td>15803</td>\n",
       "      <td>1056010</td>\n",
       "      <td>57266</td>\n",
       "      <td>Loyalist</td>\n",
       "      <td>1 adult with kids</td>\n",
       "      <td>19-24</td>\n",
       "      <td>Nutrition</td>\n",
       "      <td>national</td>\n",
       "      <td>Prepared food</td>\n",
       "      <td>374</td>\n",
       "      <td>3.00</td>\n",
       "      <td>17/10/2020 0:00</td>\n",
       "    </tr>\n",
       "    <tr>\n",
       "      <th>9</th>\n",
       "      <td>15803</td>\n",
       "      <td>845307</td>\n",
       "      <td>57266</td>\n",
       "      <td>Loyalist</td>\n",
       "      <td>1 adult with kids</td>\n",
       "      <td>19-24</td>\n",
       "      <td>Deli</td>\n",
       "      <td>national</td>\n",
       "      <td>Deli meats</td>\n",
       "      <td>374</td>\n",
       "      <td>3.17</td>\n",
       "      <td>24/10/2020 0:00</td>\n",
       "    </tr>\n",
       "  </tbody>\n",
       "</table>\n",
       "</div>"
      ],
      "text/plain": [
       "   customer_id  product_id  basket_id   loyalty     household_type age_band  \\\n",
       "0        15803     1131974      57266  Loyalist  1 adult with kids    19-24   \n",
       "1        15803     1051516      57266  Loyalist  1 adult with kids    19-24   \n",
       "2        15803      967254      57266  Loyalist  1 adult with kids    19-24   \n",
       "3        15803     1134222      57266  Loyalist  1 adult with kids    19-24   \n",
       "4        15803     1003421      57266  Loyalist  1 adult with kids    19-24   \n",
       "5        15803      937791      57266  Loyalist  1 adult with kids    19-24   \n",
       "6        15803     1082185      57266  Loyalist  1 adult with kids    19-24   \n",
       "7        15803      940947      57266  Loyalist  1 adult with kids    19-24   \n",
       "8        15803     1056010      57266  Loyalist  1 adult with kids    19-24   \n",
       "9        15803      845307      57266  Loyalist  1 adult with kids    19-24   \n",
       "\n",
       "       department     brand                commodity  store  price  \\\n",
       "0         Grocery   private   Baked bread/buns/rolls    374   0.99   \n",
       "1         Produce  national  Vegetables - all others    374   0.70   \n",
       "2  Pharmaceutical  national             Cold and flu    374   1.68   \n",
       "3         Grocery   private         Paper housewares    374   2.59   \n",
       "4         Grocery  national                     Soup    374   0.60   \n",
       "5         Grocery  national             Frozen pizza    374   2.25   \n",
       "6         Produce  national           Tropical fruit    374   1.07   \n",
       "7            Meat  national               Heat/serve    374   5.00   \n",
       "8       Nutrition  national            Prepared food    374   3.00   \n",
       "9            Deli  national               Deli meats    374   3.17   \n",
       "\n",
       "  transaction_date  \n",
       "0   5/10/2020 0:00  \n",
       "1  24/10/2020 0:00  \n",
       "2  18/10/2020 0:00  \n",
       "3  23/10/2020 0:00  \n",
       "4  27/10/2020 0:00  \n",
       "5  28/10/2020 0:00  \n",
       "6  12/10/2020 0:00  \n",
       "7   2/10/2020 0:00  \n",
       "8  17/10/2020 0:00  \n",
       "9  24/10/2020 0:00  "
      ]
     },
     "execution_count": 3,
     "metadata": {},
     "output_type": "execute_result"
    }
   ],
   "source": [
    "df.head(10)"
   ]
  },
  {
   "cell_type": "code",
   "execution_count": 4,
   "metadata": {},
   "outputs": [
    {
     "data": {
      "text/plain": [
       "array(['First Time Buyer', 'Loyalist', 'Promiscuous'], dtype=object)"
      ]
     },
     "execution_count": 4,
     "metadata": {},
     "output_type": "execute_result"
    }
   ],
   "source": [
    "np.unique(df[\"loyalty\"])"
   ]
  },
  {
   "cell_type": "code",
   "execution_count": 5,
   "metadata": {},
   "outputs": [
    {
     "data": {
      "text/plain": [
       "array(['1 adult with kids', '2 adults with kids', '2 adults with no kids',\n",
       "       'Single female', 'Single male'], dtype=object)"
      ]
     },
     "execution_count": 5,
     "metadata": {},
     "output_type": "execute_result"
    }
   ],
   "source": [
    "np.unique(df[\"household_type\"])"
   ]
  },
  {
   "cell_type": "code",
   "execution_count": 6,
   "metadata": {},
   "outputs": [
    {
     "data": {
      "text/plain": [
       "array(['19-24', '25-34', '35-44', '45-54', '55-64', 'Greater than 65'],\n",
       "      dtype=object)"
      ]
     },
     "execution_count": 6,
     "metadata": {},
     "output_type": "execute_result"
    }
   ],
   "source": [
    "np.unique(df[\"age_band\"])"
   ]
  },
  {
   "cell_type": "code",
   "execution_count": 7,
   "metadata": {},
   "outputs": [
    {
     "data": {
      "text/plain": [
       "array(['Cosmetics', 'Deli', 'Floral', 'Grocery', 'Meat', 'Nutrition',\n",
       "       'Pastry', 'Pharmaceutical', 'Produce', 'Salad Bar', 'Seafood'],\n",
       "      dtype=object)"
      ]
     },
     "execution_count": 7,
     "metadata": {},
     "output_type": "execute_result"
    }
   ],
   "source": [
    "np.unique(df[\"department\"])"
   ]
  },
  {
   "cell_type": "code",
   "execution_count": 8,
   "metadata": {},
   "outputs": [
    {
     "data": {
      "text/plain": [
       "customer_id           int64\n",
       "product_id            int64\n",
       "basket_id             int64\n",
       "loyalty              object\n",
       "household_type       object\n",
       "age_band             object\n",
       "department           object\n",
       "brand                object\n",
       "commodity            object\n",
       "store                 int64\n",
       "price               float64\n",
       "transaction_date     object\n",
       "dtype: object"
      ]
     },
     "execution_count": 8,
     "metadata": {},
     "output_type": "execute_result"
    }
   ],
   "source": [
    "df.dtypes"
   ]
  },
  {
   "cell_type": "code",
   "execution_count": 9,
   "metadata": {},
   "outputs": [
    {
     "data": {
      "text/plain": [
       "77750"
      ]
     },
     "execution_count": 9,
     "metadata": {},
     "output_type": "execute_result"
    }
   ],
   "source": [
    "len(df)"
   ]
  },
  {
   "cell_type": "code",
   "execution_count": 10,
   "metadata": {},
   "outputs": [],
   "source": [
    "duplicates = df.duplicated()"
   ]
  },
  {
   "cell_type": "code",
   "execution_count": 11,
   "metadata": {},
   "outputs": [],
   "source": [
    "new_df=df.drop_duplicates()"
   ]
  },
  {
   "cell_type": "code",
   "execution_count": 12,
   "metadata": {},
   "outputs": [
    {
     "data": {
      "text/html": [
       "<div>\n",
       "<style scoped>\n",
       "    .dataframe tbody tr th:only-of-type {\n",
       "        vertical-align: middle;\n",
       "    }\n",
       "\n",
       "    .dataframe tbody tr th {\n",
       "        vertical-align: top;\n",
       "    }\n",
       "\n",
       "    .dataframe thead th {\n",
       "        text-align: right;\n",
       "    }\n",
       "</style>\n",
       "<table border=\"1\" class=\"dataframe\">\n",
       "  <thead>\n",
       "    <tr style=\"text-align: right;\">\n",
       "      <th></th>\n",
       "      <th>customer_id</th>\n",
       "      <th>product_id</th>\n",
       "      <th>basket_id</th>\n",
       "      <th>loyalty</th>\n",
       "      <th>household_type</th>\n",
       "      <th>age_band</th>\n",
       "      <th>department</th>\n",
       "      <th>brand</th>\n",
       "      <th>commodity</th>\n",
       "      <th>store</th>\n",
       "      <th>price</th>\n",
       "      <th>transaction_date</th>\n",
       "    </tr>\n",
       "  </thead>\n",
       "  <tbody>\n",
       "    <tr>\n",
       "      <th>0</th>\n",
       "      <td>15803</td>\n",
       "      <td>1131974</td>\n",
       "      <td>57266</td>\n",
       "      <td>Loyalist</td>\n",
       "      <td>1 adult with kids</td>\n",
       "      <td>19-24</td>\n",
       "      <td>Grocery</td>\n",
       "      <td>private</td>\n",
       "      <td>Baked bread/buns/rolls</td>\n",
       "      <td>374</td>\n",
       "      <td>0.99</td>\n",
       "      <td>5/10/2020 0:00</td>\n",
       "    </tr>\n",
       "    <tr>\n",
       "      <th>1</th>\n",
       "      <td>15803</td>\n",
       "      <td>1051516</td>\n",
       "      <td>57266</td>\n",
       "      <td>Loyalist</td>\n",
       "      <td>1 adult with kids</td>\n",
       "      <td>19-24</td>\n",
       "      <td>Produce</td>\n",
       "      <td>national</td>\n",
       "      <td>Vegetables - all others</td>\n",
       "      <td>374</td>\n",
       "      <td>0.70</td>\n",
       "      <td>24/10/2020 0:00</td>\n",
       "    </tr>\n",
       "    <tr>\n",
       "      <th>2</th>\n",
       "      <td>15803</td>\n",
       "      <td>967254</td>\n",
       "      <td>57266</td>\n",
       "      <td>Loyalist</td>\n",
       "      <td>1 adult with kids</td>\n",
       "      <td>19-24</td>\n",
       "      <td>Pharmaceutical</td>\n",
       "      <td>national</td>\n",
       "      <td>Cold and flu</td>\n",
       "      <td>374</td>\n",
       "      <td>1.68</td>\n",
       "      <td>18/10/2020 0:00</td>\n",
       "    </tr>\n",
       "    <tr>\n",
       "      <th>3</th>\n",
       "      <td>15803</td>\n",
       "      <td>1134222</td>\n",
       "      <td>57266</td>\n",
       "      <td>Loyalist</td>\n",
       "      <td>1 adult with kids</td>\n",
       "      <td>19-24</td>\n",
       "      <td>Grocery</td>\n",
       "      <td>private</td>\n",
       "      <td>Paper housewares</td>\n",
       "      <td>374</td>\n",
       "      <td>2.59</td>\n",
       "      <td>23/10/2020 0:00</td>\n",
       "    </tr>\n",
       "    <tr>\n",
       "      <th>4</th>\n",
       "      <td>15803</td>\n",
       "      <td>1003421</td>\n",
       "      <td>57266</td>\n",
       "      <td>Loyalist</td>\n",
       "      <td>1 adult with kids</td>\n",
       "      <td>19-24</td>\n",
       "      <td>Grocery</td>\n",
       "      <td>national</td>\n",
       "      <td>Soup</td>\n",
       "      <td>374</td>\n",
       "      <td>0.60</td>\n",
       "      <td>27/10/2020 0:00</td>\n",
       "    </tr>\n",
       "    <tr>\n",
       "      <th>5</th>\n",
       "      <td>15803</td>\n",
       "      <td>937791</td>\n",
       "      <td>57266</td>\n",
       "      <td>Loyalist</td>\n",
       "      <td>1 adult with kids</td>\n",
       "      <td>19-24</td>\n",
       "      <td>Grocery</td>\n",
       "      <td>national</td>\n",
       "      <td>Frozen pizza</td>\n",
       "      <td>374</td>\n",
       "      <td>2.25</td>\n",
       "      <td>28/10/2020 0:00</td>\n",
       "    </tr>\n",
       "    <tr>\n",
       "      <th>6</th>\n",
       "      <td>15803</td>\n",
       "      <td>1082185</td>\n",
       "      <td>57266</td>\n",
       "      <td>Loyalist</td>\n",
       "      <td>1 adult with kids</td>\n",
       "      <td>19-24</td>\n",
       "      <td>Produce</td>\n",
       "      <td>national</td>\n",
       "      <td>Tropical fruit</td>\n",
       "      <td>374</td>\n",
       "      <td>1.07</td>\n",
       "      <td>12/10/2020 0:00</td>\n",
       "    </tr>\n",
       "    <tr>\n",
       "      <th>7</th>\n",
       "      <td>15803</td>\n",
       "      <td>940947</td>\n",
       "      <td>57266</td>\n",
       "      <td>Loyalist</td>\n",
       "      <td>1 adult with kids</td>\n",
       "      <td>19-24</td>\n",
       "      <td>Meat</td>\n",
       "      <td>national</td>\n",
       "      <td>Heat/serve</td>\n",
       "      <td>374</td>\n",
       "      <td>5.00</td>\n",
       "      <td>2/10/2020 0:00</td>\n",
       "    </tr>\n",
       "    <tr>\n",
       "      <th>8</th>\n",
       "      <td>15803</td>\n",
       "      <td>1056010</td>\n",
       "      <td>57266</td>\n",
       "      <td>Loyalist</td>\n",
       "      <td>1 adult with kids</td>\n",
       "      <td>19-24</td>\n",
       "      <td>Nutrition</td>\n",
       "      <td>national</td>\n",
       "      <td>Prepared food</td>\n",
       "      <td>374</td>\n",
       "      <td>3.00</td>\n",
       "      <td>17/10/2020 0:00</td>\n",
       "    </tr>\n",
       "    <tr>\n",
       "      <th>9</th>\n",
       "      <td>15803</td>\n",
       "      <td>845307</td>\n",
       "      <td>57266</td>\n",
       "      <td>Loyalist</td>\n",
       "      <td>1 adult with kids</td>\n",
       "      <td>19-24</td>\n",
       "      <td>Deli</td>\n",
       "      <td>national</td>\n",
       "      <td>Deli meats</td>\n",
       "      <td>374</td>\n",
       "      <td>3.17</td>\n",
       "      <td>24/10/2020 0:00</td>\n",
       "    </tr>\n",
       "  </tbody>\n",
       "</table>\n",
       "</div>"
      ],
      "text/plain": [
       "   customer_id  product_id  basket_id   loyalty     household_type age_band  \\\n",
       "0        15803     1131974      57266  Loyalist  1 adult with kids    19-24   \n",
       "1        15803     1051516      57266  Loyalist  1 adult with kids    19-24   \n",
       "2        15803      967254      57266  Loyalist  1 adult with kids    19-24   \n",
       "3        15803     1134222      57266  Loyalist  1 adult with kids    19-24   \n",
       "4        15803     1003421      57266  Loyalist  1 adult with kids    19-24   \n",
       "5        15803      937791      57266  Loyalist  1 adult with kids    19-24   \n",
       "6        15803     1082185      57266  Loyalist  1 adult with kids    19-24   \n",
       "7        15803      940947      57266  Loyalist  1 adult with kids    19-24   \n",
       "8        15803     1056010      57266  Loyalist  1 adult with kids    19-24   \n",
       "9        15803      845307      57266  Loyalist  1 adult with kids    19-24   \n",
       "\n",
       "       department     brand                commodity  store  price  \\\n",
       "0         Grocery   private   Baked bread/buns/rolls    374   0.99   \n",
       "1         Produce  national  Vegetables - all others    374   0.70   \n",
       "2  Pharmaceutical  national             Cold and flu    374   1.68   \n",
       "3         Grocery   private         Paper housewares    374   2.59   \n",
       "4         Grocery  national                     Soup    374   0.60   \n",
       "5         Grocery  national             Frozen pizza    374   2.25   \n",
       "6         Produce  national           Tropical fruit    374   1.07   \n",
       "7            Meat  national               Heat/serve    374   5.00   \n",
       "8       Nutrition  national            Prepared food    374   3.00   \n",
       "9            Deli  national               Deli meats    374   3.17   \n",
       "\n",
       "  transaction_date  \n",
       "0   5/10/2020 0:00  \n",
       "1  24/10/2020 0:00  \n",
       "2  18/10/2020 0:00  \n",
       "3  23/10/2020 0:00  \n",
       "4  27/10/2020 0:00  \n",
       "5  28/10/2020 0:00  \n",
       "6  12/10/2020 0:00  \n",
       "7   2/10/2020 0:00  \n",
       "8  17/10/2020 0:00  \n",
       "9  24/10/2020 0:00  "
      ]
     },
     "execution_count": 12,
     "metadata": {},
     "output_type": "execute_result"
    }
   ],
   "source": [
    "new_df.head(10)"
   ]
  },
  {
   "cell_type": "code",
   "execution_count": 13,
   "metadata": {},
   "outputs": [
    {
     "data": {
      "text/plain": [
       "77691"
      ]
     },
     "execution_count": 13,
     "metadata": {},
     "output_type": "execute_result"
    }
   ],
   "source": [
    "len(new_df)"
   ]
  },
  {
   "cell_type": "code",
   "execution_count": 14,
   "metadata": {},
   "outputs": [],
   "source": [
    "new_df.to_csv('dataset_2019_2022_new.csv', index=False)"
   ]
  },
  {
   "cell_type": "code",
   "execution_count": null,
   "metadata": {},
   "outputs": [],
   "source": []
  }
 ],
 "metadata": {
  "kernelspec": {
   "display_name": "Python 3",
   "language": "python",
   "name": "python3"
  },
  "language_info": {
   "codemirror_mode": {
    "name": "ipython",
    "version": 3
   },
   "file_extension": ".py",
   "mimetype": "text/x-python",
   "name": "python",
   "nbconvert_exporter": "python",
   "pygments_lexer": "ipython3",
   "version": "3.8.5"
  }
 },
 "nbformat": 4,
 "nbformat_minor": 4
}
